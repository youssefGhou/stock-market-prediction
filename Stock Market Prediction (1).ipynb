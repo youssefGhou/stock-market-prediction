{
 "cells": [
  {
   "cell_type": "markdown",
   "metadata": {},
   "source": [
    "                                               Stock Market Prediction\n",
    "                                             \n",
    "                                             Ghoudan Youssef & Lamti Badr\n",
    "                                             \n",
    "                                                   January 30, 2017"
   ]
  },
  {
   "cell_type": "markdown",
   "metadata": {},
   "source": [
    "# The dataset"
   ]
  },
  {
   "cell_type": "markdown",
   "metadata": {},
   "source": [
    "In this report, we'll use datasets from the Numerai tournament \"__a hedge fund crowd-sourcing stock market predictions__\". Numerai is a global artificial intelligence tournament to predict the stock market.\n",
    "\n",
    "__Numerai__ manages an institutional grade _long/short_ global equity strategy for the investors in their hedge fund.They transform, regularize and encrypt financial data into machine learning problems and give it away for free.\n",
    "For this tournament, we have one datasets which is our training data. \n",
    "\n",
    "__Training data__ : The task is binary classification (target = 0 means short, target = 1 means Long). The dataset is low dimensional, it has 22 columns. 21 columns consists of our features ranging from feature 1 to feature 21 the last column is the target value; a 1 or 0 value which is going to be used to train our classifier. The dataset has a lot of examples, but not too many - We have about 57 000 rows."
   ]
  },
  {
   "cell_type": "markdown",
   "metadata": {},
   "source": [
    "#The hypothesis"
   ]
  },
  {
   "cell_type": "markdown",
   "metadata": {},
   "source": [
    "Using this data, the objective is to predict whether a stock is trending upward or downward so __Numerai__ could take _long_ positions in stocks that are expected to increase in value and _short_ positions in stocks that are expected to decrease in value.\n",
    "\n",
    "__Long position :__ A long is the buying of a stock, with the expectation the asset will rise in value.\n",
    "\n",
    "\n",
    "__Short position :__  A short means borrowing a stock you don’t own, selling it, then hoping it declines in value, at which time you can buy it back at a lower price than you paid for it and return the borrowed shares.\n",
    "\n",
    "If someone want to short some given stock, be careful, going short is more risky than going long !"
   ]
  },
  {
   "cell_type": "markdown",
   "metadata": {},
   "source": [
    "![Shorting is dangerous](http://www.guerillastocktrading.com/wp-content/uploads/2014/09/stock-trading-meme1.jpg)\n"
   ]
  },
  {
   "cell_type": "markdown",
   "metadata": {},
   "source": [
    "#The metric"
   ]
  },
  {
   "cell_type": "markdown",
   "metadata": {},
   "source": [
    "Metrics are used to estimate the performance of our models. The metric for the competition is __Logarithmic Loss__ :\n"
   ]
  },
  {
   "cell_type": "markdown",
   "metadata": {},
   "source": [
    "$$logloss= -\\frac{1}{N}\\sum_{i=1}^N[y_i\\log(\\widehat{y_i}) + (1-y_i)\\log(1-\\widehat{y_i})]$$\n",
    "where :\n",
    "- $n$ is the number of examples in the training set.\n",
    "- $\\widehat{y_i}$ is the predicted probability of the stock rising in value.\n",
    "- $y_i$ is 1 if the position taken is long, 0 otherwise.\n",
    "\n",
    "Smaller the __Logarithmic Loss__, better is the model.\n",
    "\n",
    "__Intuition behind the Logarithmic Loss :__\n",
    "\n",
    "_Log loss_ is used when we have {0,1} response. This is usually because when we have {0,1} response, the best models give us values in terms of probabilities.\n",
    "\n",
    "In simple words, log loss measures the __UNCERTAINTY__ of the probabilities of your model by comparing them to the true labels.\n"
   ]
  },
  {
   "cell_type": "markdown",
   "metadata": {},
   "source": [
    "Before we get into our evaluation, we first will analyze the training dataset."
   ]
  },
  {
   "cell_type": "markdown",
   "metadata": {},
   "source": [
    "#Descriptives"
   ]
  },
  {
   "cell_type": "markdown",
   "metadata": {
    "collapsed": true
   },
   "source": [
    "We used the __pandas__ library method “read_csv” to parse the data into a DataFrame object.\n",
    "Here is a sample from the dataset : "
   ]
  },
  {
   "cell_type": "code",
   "execution_count": 5,
   "metadata": {
    "collapsed": false
   },
   "outputs": [
    {
     "data": {
      "text/html": [
       "<div style=\"max-height:1000px;max-width:1500px;overflow:auto;\">\n",
       "<table border=\"1\" class=\"dataframe\">\n",
       "  <thead>\n",
       "    <tr style=\"text-align: right;\">\n",
       "      <th></th>\n",
       "      <th>feature1</th>\n",
       "      <th>feature2</th>\n",
       "      <th>feature3</th>\n",
       "      <th>feature4</th>\n",
       "      <th>feature5</th>\n",
       "      <th>feature6</th>\n",
       "      <th>feature7</th>\n",
       "      <th>feature8</th>\n",
       "      <th>feature9</th>\n",
       "      <th>feature10</th>\n",
       "      <th>...</th>\n",
       "      <th>feature13</th>\n",
       "      <th>feature14</th>\n",
       "      <th>feature15</th>\n",
       "      <th>feature16</th>\n",
       "      <th>feature17</th>\n",
       "      <th>feature18</th>\n",
       "      <th>feature19</th>\n",
       "      <th>feature20</th>\n",
       "      <th>feature21</th>\n",
       "      <th>target</th>\n",
       "    </tr>\n",
       "  </thead>\n",
       "  <tbody>\n",
       "    <tr>\n",
       "      <th>0</th>\n",
       "      <td> 0.263669</td>\n",
       "      <td> 0.711012</td>\n",
       "      <td> 0.730641</td>\n",
       "      <td> 0.259069</td>\n",
       "      <td> 0.331150</td>\n",
       "      <td> 0.300947</td>\n",
       "      <td> 0.468118</td>\n",
       "      <td> 0.426362</td>\n",
       "      <td> 0.545662</td>\n",
       "      <td> 0.472496</td>\n",
       "      <td>...</td>\n",
       "      <td> 0.869772</td>\n",
       "      <td> 0.219606</td>\n",
       "      <td> 0.690553</td>\n",
       "      <td> 0.697929</td>\n",
       "      <td> 0.332535</td>\n",
       "      <td> 0.500681</td>\n",
       "      <td> 0.418926</td>\n",
       "      <td> 0.272475</td>\n",
       "      <td> 0.822392</td>\n",
       "      <td> 1</td>\n",
       "    </tr>\n",
       "    <tr>\n",
       "      <th>1</th>\n",
       "      <td> 0.828056</td>\n",
       "      <td> 0.433518</td>\n",
       "      <td> 0.435617</td>\n",
       "      <td> 0.209394</td>\n",
       "      <td> 0.508133</td>\n",
       "      <td> 0.296114</td>\n",
       "      <td> 0.082211</td>\n",
       "      <td> 0.876144</td>\n",
       "      <td> 0.201528</td>\n",
       "      <td> 0.630515</td>\n",
       "      <td>...</td>\n",
       "      <td> 0.570470</td>\n",
       "      <td> 0.235018</td>\n",
       "      <td> 0.588986</td>\n",
       "      <td> 0.767599</td>\n",
       "      <td> 0.585097</td>\n",
       "      <td> 0.458801</td>\n",
       "      <td> 0.960031</td>\n",
       "      <td> 0.732236</td>\n",
       "      <td> 0.543159</td>\n",
       "      <td> 0</td>\n",
       "    </tr>\n",
       "    <tr>\n",
       "      <th>2</th>\n",
       "      <td> 0.089681</td>\n",
       "      <td> 0.590072</td>\n",
       "      <td> 0.715500</td>\n",
       "      <td> 0.921637</td>\n",
       "      <td> 0.542368</td>\n",
       "      <td> 0.729199</td>\n",
       "      <td> 0.979151</td>\n",
       "      <td> 0.009172</td>\n",
       "      <td> 0.929291</td>\n",
       "      <td> 0.854326</td>\n",
       "      <td>...</td>\n",
       "      <td> 0.847301</td>\n",
       "      <td> 0.894065</td>\n",
       "      <td> 0.791371</td>\n",
       "      <td> 0.721615</td>\n",
       "      <td> 0.202686</td>\n",
       "      <td> 0.845608</td>\n",
       "      <td> 0.046535</td>\n",
       "      <td> 0.200791</td>\n",
       "      <td> 0.654688</td>\n",
       "      <td> 0</td>\n",
       "    </tr>\n",
       "    <tr>\n",
       "      <th>3</th>\n",
       "      <td> 0.796596</td>\n",
       "      <td> 0.276844</td>\n",
       "      <td> 0.234234</td>\n",
       "      <td> 0.798410</td>\n",
       "      <td> 0.129723</td>\n",
       "      <td> 0.794306</td>\n",
       "      <td> 0.174816</td>\n",
       "      <td> 0.823313</td>\n",
       "      <td> 0.209920</td>\n",
       "      <td> 0.008414</td>\n",
       "      <td>...</td>\n",
       "      <td> 0.094406</td>\n",
       "      <td> 0.817543</td>\n",
       "      <td> 0.342794</td>\n",
       "      <td> 0.215916</td>\n",
       "      <td> 0.015114</td>\n",
       "      <td> 0.207310</td>\n",
       "      <td> 0.845106</td>\n",
       "      <td> 0.017104</td>\n",
       "      <td> 0.016130</td>\n",
       "      <td> 0</td>\n",
       "    </tr>\n",
       "    <tr>\n",
       "      <th>4</th>\n",
       "      <td> 0.040664</td>\n",
       "      <td> 0.036370</td>\n",
       "      <td> 0.438090</td>\n",
       "      <td> 0.219633</td>\n",
       "      <td> 0.100569</td>\n",
       "      <td> 0.097791</td>\n",
       "      <td> 0.089305</td>\n",
       "      <td> 0.337548</td>\n",
       "      <td> 0.382942</td>\n",
       "      <td> 0.160545</td>\n",
       "      <td>...</td>\n",
       "      <td> 0.074038</td>\n",
       "      <td> 0.044325</td>\n",
       "      <td> 0.844283</td>\n",
       "      <td> 0.792098</td>\n",
       "      <td> 0.842606</td>\n",
       "      <td> 0.133044</td>\n",
       "      <td> 0.002375</td>\n",
       "      <td> 0.795792</td>\n",
       "      <td> 0.128112</td>\n",
       "      <td> 1</td>\n",
       "    </tr>\n",
       "  </tbody>\n",
       "</table>\n",
       "<p>5 rows × 22 columns</p>\n",
       "</div>"
      ],
      "text/plain": [
       "   feature1  feature2  feature3  feature4  feature5  feature6  feature7  \\\n",
       "0  0.263669  0.711012  0.730641  0.259069  0.331150  0.300947  0.468118   \n",
       "1  0.828056  0.433518  0.435617  0.209394  0.508133  0.296114  0.082211   \n",
       "2  0.089681  0.590072  0.715500  0.921637  0.542368  0.729199  0.979151   \n",
       "3  0.796596  0.276844  0.234234  0.798410  0.129723  0.794306  0.174816   \n",
       "4  0.040664  0.036370  0.438090  0.219633  0.100569  0.097791  0.089305   \n",
       "\n",
       "   feature8  feature9  feature10   ...    feature13  feature14  feature15  \\\n",
       "0  0.426362  0.545662   0.472496   ...     0.869772   0.219606   0.690553   \n",
       "1  0.876144  0.201528   0.630515   ...     0.570470   0.235018   0.588986   \n",
       "2  0.009172  0.929291   0.854326   ...     0.847301   0.894065   0.791371   \n",
       "3  0.823313  0.209920   0.008414   ...     0.094406   0.817543   0.342794   \n",
       "4  0.337548  0.382942   0.160545   ...     0.074038   0.044325   0.844283   \n",
       "\n",
       "   feature16  feature17  feature18  feature19  feature20  feature21  target  \n",
       "0   0.697929   0.332535   0.500681   0.418926   0.272475   0.822392       1  \n",
       "1   0.767599   0.585097   0.458801   0.960031   0.732236   0.543159       0  \n",
       "2   0.721615   0.202686   0.845608   0.046535   0.200791   0.654688       0  \n",
       "3   0.215916   0.015114   0.207310   0.845106   0.017104   0.016130       0  \n",
       "4   0.792098   0.842606   0.133044   0.002375   0.795792   0.128112       1  \n",
       "\n",
       "[5 rows x 22 columns]"
      ]
     },
     "execution_count": 5,
     "metadata": {},
     "output_type": "execute_result"
    }
   ],
   "source": [
    "import pandas as pd\n",
    "\n",
    "training_data=pd.read_csv(r'numerai_training_data.csv')\n",
    "training_data.head(n=5)"
   ]
  },
  {
   "cell_type": "markdown",
   "metadata": {
    "collapsed": true
   },
   "source": [
    "General analysis for all the variables :"
   ]
  },
  {
   "cell_type": "code",
   "execution_count": 37,
   "metadata": {
    "collapsed": false
   },
   "outputs": [
    {
     "data": {
      "text/html": [
       "<div style=\"max-height:1000px;max-width:1500px;overflow:auto;\">\n",
       "<table border=\"1\" class=\"dataframe\">\n",
       "  <thead>\n",
       "    <tr style=\"text-align: right;\">\n",
       "      <th></th>\n",
       "      <th>feature1</th>\n",
       "      <th>feature2</th>\n",
       "      <th>feature3</th>\n",
       "      <th>feature4</th>\n",
       "      <th>feature5</th>\n",
       "      <th>feature6</th>\n",
       "      <th>feature7</th>\n",
       "      <th>feature8</th>\n",
       "      <th>feature9</th>\n",
       "      <th>feature10</th>\n",
       "      <th>...</th>\n",
       "      <th>feature13</th>\n",
       "      <th>feature14</th>\n",
       "      <th>feature15</th>\n",
       "      <th>feature16</th>\n",
       "      <th>feature17</th>\n",
       "      <th>feature18</th>\n",
       "      <th>feature19</th>\n",
       "      <th>feature20</th>\n",
       "      <th>feature21</th>\n",
       "      <th>target</th>\n",
       "    </tr>\n",
       "  </thead>\n",
       "  <tbody>\n",
       "    <tr>\n",
       "      <th>count</th>\n",
       "      <td> 57771.000000</td>\n",
       "      <td> 57771.000000</td>\n",
       "      <td> 57771.000000</td>\n",
       "      <td> 57771.000000</td>\n",
       "      <td> 57771.000000</td>\n",
       "      <td> 57771.000000</td>\n",
       "      <td> 57771.000000</td>\n",
       "      <td> 57771.000000</td>\n",
       "      <td> 57771.000000</td>\n",
       "      <td> 57771.000000</td>\n",
       "      <td>...</td>\n",
       "      <td> 57771.000000</td>\n",
       "      <td> 57771.000000</td>\n",
       "      <td> 57771.000000</td>\n",
       "      <td> 57771.000000</td>\n",
       "      <td> 57771.000000</td>\n",
       "      <td> 57771.000000</td>\n",
       "      <td> 57771.000000</td>\n",
       "      <td> 57771.000000</td>\n",
       "      <td> 57771.000000</td>\n",
       "      <td> 57771.000000</td>\n",
       "    </tr>\n",
       "    <tr>\n",
       "      <th>mean</th>\n",
       "      <td>     0.495515</td>\n",
       "      <td>     0.504806</td>\n",
       "      <td>     0.501291</td>\n",
       "      <td>     0.525232</td>\n",
       "      <td>     0.490325</td>\n",
       "      <td>     0.501399</td>\n",
       "      <td>     0.492902</td>\n",
       "      <td>     0.500034</td>\n",
       "      <td>     0.496661</td>\n",
       "      <td>     0.491700</td>\n",
       "      <td>...</td>\n",
       "      <td>     0.508338</td>\n",
       "      <td>     0.492883</td>\n",
       "      <td>     0.516477</td>\n",
       "      <td>     0.534609</td>\n",
       "      <td>     0.487273</td>\n",
       "      <td>     0.513251</td>\n",
       "      <td>     0.496786</td>\n",
       "      <td>     0.496528</td>\n",
       "      <td>     0.506407</td>\n",
       "      <td>     0.507313</td>\n",
       "    </tr>\n",
       "    <tr>\n",
       "      <th>std</th>\n",
       "      <td>     0.286843</td>\n",
       "      <td>     0.289952</td>\n",
       "      <td>     0.293140</td>\n",
       "      <td>     0.289845</td>\n",
       "      <td>     0.292437</td>\n",
       "      <td>     0.286529</td>\n",
       "      <td>     0.284225</td>\n",
       "      <td>     0.285824</td>\n",
       "      <td>     0.292720</td>\n",
       "      <td>     0.281561</td>\n",
       "      <td>...</td>\n",
       "      <td>     0.291265</td>\n",
       "      <td>     0.290822</td>\n",
       "      <td>     0.283163</td>\n",
       "      <td>     0.292226</td>\n",
       "      <td>     0.288464</td>\n",
       "      <td>     0.289846</td>\n",
       "      <td>     0.292101</td>\n",
       "      <td>     0.286538</td>\n",
       "      <td>     0.292980</td>\n",
       "      <td>     0.499951</td>\n",
       "    </tr>\n",
       "    <tr>\n",
       "      <th>min</th>\n",
       "      <td>     0.000000</td>\n",
       "      <td>     0.000000</td>\n",
       "      <td>     0.000000</td>\n",
       "      <td>     0.000000</td>\n",
       "      <td>     0.000810</td>\n",
       "      <td>     0.000000</td>\n",
       "      <td>     0.000000</td>\n",
       "      <td>     0.000000</td>\n",
       "      <td>     0.000000</td>\n",
       "      <td>     0.000034</td>\n",
       "      <td>...</td>\n",
       "      <td>     0.000000</td>\n",
       "      <td>     0.000000</td>\n",
       "      <td>     0.000000</td>\n",
       "      <td>     0.000114</td>\n",
       "      <td>     0.000000</td>\n",
       "      <td>     0.000000</td>\n",
       "      <td>     0.000000</td>\n",
       "      <td>     0.000000</td>\n",
       "      <td>     0.000000</td>\n",
       "      <td>     0.000000</td>\n",
       "    </tr>\n",
       "    <tr>\n",
       "      <th>25%</th>\n",
       "      <td>     0.255061</td>\n",
       "      <td>     0.263065</td>\n",
       "      <td>     0.247832</td>\n",
       "      <td>     0.276403</td>\n",
       "      <td>     0.226864</td>\n",
       "      <td>     0.250692</td>\n",
       "      <td>     0.252745</td>\n",
       "      <td>     0.261614</td>\n",
       "      <td>     0.240044</td>\n",
       "      <td>     0.254334</td>\n",
       "      <td>...</td>\n",
       "      <td>     0.264428</td>\n",
       "      <td>     0.243085</td>\n",
       "      <td>     0.278300</td>\n",
       "      <td>     0.289773</td>\n",
       "      <td>     0.242321</td>\n",
       "      <td>     0.263774</td>\n",
       "      <td>     0.242654</td>\n",
       "      <td>     0.249704</td>\n",
       "      <td>     0.235558</td>\n",
       "      <td>     0.000000</td>\n",
       "    </tr>\n",
       "    <tr>\n",
       "      <th>50%</th>\n",
       "      <td>     0.479254</td>\n",
       "      <td>     0.496178</td>\n",
       "      <td>     0.510131</td>\n",
       "      <td>     0.539201</td>\n",
       "      <td>     0.493210</td>\n",
       "      <td>     0.505608</td>\n",
       "      <td>     0.487354</td>\n",
       "      <td>     0.490177</td>\n",
       "      <td>     0.497191</td>\n",
       "      <td>     0.476783</td>\n",
       "      <td>...</td>\n",
       "      <td>     0.504100</td>\n",
       "      <td>     0.494066</td>\n",
       "      <td>     0.524214</td>\n",
       "      <td>     0.560189</td>\n",
       "      <td>     0.489725</td>\n",
       "      <td>     0.512149</td>\n",
       "      <td>     0.495928</td>\n",
       "      <td>     0.505668</td>\n",
       "      <td>     0.512987</td>\n",
       "      <td>     1.000000</td>\n",
       "    </tr>\n",
       "    <tr>\n",
       "      <th>75%</th>\n",
       "      <td>     0.747885</td>\n",
       "      <td>     0.768643</td>\n",
       "      <td>     0.758342</td>\n",
       "      <td>     0.777407</td>\n",
       "      <td>     0.743655</td>\n",
       "      <td>     0.742080</td>\n",
       "      <td>     0.739014</td>\n",
       "      <td>     0.748659</td>\n",
       "      <td>     0.751543</td>\n",
       "      <td>     0.730126</td>\n",
       "      <td>...</td>\n",
       "      <td>     0.777105</td>\n",
       "      <td>     0.753093</td>\n",
       "      <td>     0.759584</td>\n",
       "      <td>     0.793325</td>\n",
       "      <td>     0.741703</td>\n",
       "      <td>     0.755116</td>\n",
       "      <td>     0.744884</td>\n",
       "      <td>     0.747680</td>\n",
       "      <td>     0.762487</td>\n",
       "      <td>     1.000000</td>\n",
       "    </tr>\n",
       "    <tr>\n",
       "      <th>max</th>\n",
       "      <td>     1.000000</td>\n",
       "      <td>     1.000000</td>\n",
       "      <td>     1.000000</td>\n",
       "      <td>     1.000000</td>\n",
       "      <td>     1.000000</td>\n",
       "      <td>     1.000000</td>\n",
       "      <td>     1.000000</td>\n",
       "      <td>     1.000000</td>\n",
       "      <td>     1.000000</td>\n",
       "      <td>     1.000000</td>\n",
       "      <td>...</td>\n",
       "      <td>     1.000000</td>\n",
       "      <td>     1.000000</td>\n",
       "      <td>     1.000000</td>\n",
       "      <td>     1.000000</td>\n",
       "      <td>     1.000000</td>\n",
       "      <td>     1.000000</td>\n",
       "      <td>     1.000000</td>\n",
       "      <td>     1.000000</td>\n",
       "      <td>     1.000000</td>\n",
       "      <td>     1.000000</td>\n",
       "    </tr>\n",
       "  </tbody>\n",
       "</table>\n",
       "<p>8 rows × 22 columns</p>\n",
       "</div>"
      ],
      "text/plain": [
       "           feature1      feature2      feature3      feature4      feature5  \\\n",
       "count  57771.000000  57771.000000  57771.000000  57771.000000  57771.000000   \n",
       "mean       0.495515      0.504806      0.501291      0.525232      0.490325   \n",
       "std        0.286843      0.289952      0.293140      0.289845      0.292437   \n",
       "min        0.000000      0.000000      0.000000      0.000000      0.000810   \n",
       "25%        0.255061      0.263065      0.247832      0.276403      0.226864   \n",
       "50%        0.479254      0.496178      0.510131      0.539201      0.493210   \n",
       "75%        0.747885      0.768643      0.758342      0.777407      0.743655   \n",
       "max        1.000000      1.000000      1.000000      1.000000      1.000000   \n",
       "\n",
       "           feature6      feature7      feature8      feature9     feature10  \\\n",
       "count  57771.000000  57771.000000  57771.000000  57771.000000  57771.000000   \n",
       "mean       0.501399      0.492902      0.500034      0.496661      0.491700   \n",
       "std        0.286529      0.284225      0.285824      0.292720      0.281561   \n",
       "min        0.000000      0.000000      0.000000      0.000000      0.000034   \n",
       "25%        0.250692      0.252745      0.261614      0.240044      0.254334   \n",
       "50%        0.505608      0.487354      0.490177      0.497191      0.476783   \n",
       "75%        0.742080      0.739014      0.748659      0.751543      0.730126   \n",
       "max        1.000000      1.000000      1.000000      1.000000      1.000000   \n",
       "\n",
       "           ...          feature13     feature14     feature15     feature16  \\\n",
       "count      ...       57771.000000  57771.000000  57771.000000  57771.000000   \n",
       "mean       ...           0.508338      0.492883      0.516477      0.534609   \n",
       "std        ...           0.291265      0.290822      0.283163      0.292226   \n",
       "min        ...           0.000000      0.000000      0.000000      0.000114   \n",
       "25%        ...           0.264428      0.243085      0.278300      0.289773   \n",
       "50%        ...           0.504100      0.494066      0.524214      0.560189   \n",
       "75%        ...           0.777105      0.753093      0.759584      0.793325   \n",
       "max        ...           1.000000      1.000000      1.000000      1.000000   \n",
       "\n",
       "          feature17     feature18     feature19     feature20     feature21  \\\n",
       "count  57771.000000  57771.000000  57771.000000  57771.000000  57771.000000   \n",
       "mean       0.487273      0.513251      0.496786      0.496528      0.506407   \n",
       "std        0.288464      0.289846      0.292101      0.286538      0.292980   \n",
       "min        0.000000      0.000000      0.000000      0.000000      0.000000   \n",
       "25%        0.242321      0.263774      0.242654      0.249704      0.235558   \n",
       "50%        0.489725      0.512149      0.495928      0.505668      0.512987   \n",
       "75%        0.741703      0.755116      0.744884      0.747680      0.762487   \n",
       "max        1.000000      1.000000      1.000000      1.000000      1.000000   \n",
       "\n",
       "             target  \n",
       "count  57771.000000  \n",
       "mean       0.507313  \n",
       "std        0.499951  \n",
       "min        0.000000  \n",
       "25%        0.000000  \n",
       "50%        1.000000  \n",
       "75%        1.000000  \n",
       "max        1.000000  \n",
       "\n",
       "[8 rows x 22 columns]"
      ]
     },
     "execution_count": 37,
     "metadata": {},
     "output_type": "execute_result"
    }
   ],
   "source": [
    "training_data.describe()"
   ]
  },
  {
   "cell_type": "markdown",
   "metadata": {},
   "source": [
    "#Visualization"
   ]
  },
  {
   "cell_type": "markdown",
   "metadata": {},
   "source": [
    "It's interesting to explore the correlation between variables.Below we ploted the __Correlation matrix heatmap__ to know which variables are strongly correlated."
   ]
  },
  {
   "cell_type": "code",
   "execution_count": 10,
   "metadata": {
    "collapsed": false
   },
   "outputs": [
    {
     "data": {
      "text/plain": [
       "<matplotlib.axes._subplots.AxesSubplot at 0x1a186be0>"
      ]
     },
     "execution_count": 10,
     "metadata": {},
     "output_type": "execute_result"
    },
    {
     "data": {
      "image/png": "[encoded data removed]",
      "text/plain": [
       "<matplotlib.figure.Figure at 0x14de5fd0>"
      ]
     },
     "metadata": {},
     "output_type": "display_data"
    }
   ],
   "source": [
    "import seaborn as sns\n",
    "import matplotlib.pyplot as plt\n",
    "\n",
    "%matplotlib inline\n",
    "\n",
    "sns.set_style('white')\n",
    "sns.set_context('notebook', font_scale=2)\n",
    "df_plot = pd.melt(training_data, 'target', var_name='feature')\n",
    "\n",
    "fig, ax = plt.subplots(figsize=(24, 24))\n",
    "sns.heatmap(training_data.corr(), square=True)"
   ]
  },
  {
   "cell_type": "markdown",
   "metadata": {},
   "source": [
    "Some variables are highly correlated with each other. We call this __multicollinearity__.\n",
    "\n",
    "__Multicollinearity :__ means that some variables are storngly correlated with each other, It will make the estimate highly in-stable. This instability will increase the variance of estimates. It means that if there is a small change in X, produces large changes in estimate.\n",
    "\n",
    "__Effects of Multicollinearity__ :\n",
    "\n",
    "It will be difficult to find out precise effect of each variable.\n",
    "If the estimates are not reliable, then it will perform poorly on test data because the estimated function mightn’t have generalised it properly for the data. Then, the prediction accuracy for test data will be bad."
   ]
  },
  {
   "cell_type": "markdown",
   "metadata": {},
   "source": [
    "![multicollinearity](https://cdn.meme.am/cache/instances/folder904/500x/19312904.jpg)"
   ]
  },
  {
   "cell_type": "markdown",
   "metadata": {},
   "source": [
    "We'll remove some highly correlated variables ( > 0.85) :"
   ]
  },
  {
   "cell_type": "code",
   "execution_count": 15,
   "metadata": {
    "collapsed": false
   },
   "outputs": [
    {
     "name": "stdout",
     "output_type": "stream",
     "text": [
      "\n",
      "Dropping 4 highly correlated features...\n",
      "['feature14' 'feature16' 'feature18' 'feature20']\n"
     ]
    }
   ],
   "source": [
    "import numpy as np\n",
    "# calculate the correlation matrix (ignore target field)\n",
    "df_corr = training_data.drop(['target'],axis=1).corr(method='spearman')\n",
    " \n",
    "# create a mask to ignore self-\n",
    "mask = np.ones(df_corr.columns.size) - np.eye(df_corr.columns.size)\n",
    "df_corr = mask * df_corr\n",
    " \n",
    "drops = []\n",
    "# loop through each variable\n",
    "for col in df_corr.columns.values:\n",
    "    # if we've already determined to drop the current variable, continue\n",
    "    if np.in1d([col],drops):\n",
    "        continue\n",
    "    \n",
    "    # find all the variables that are highly correlated with the current variable \n",
    "    # and add them to the drop list \n",
    "    corr = df_corr[abs(df_corr[col]) > 0.85].index\n",
    "    drops = np.union1d(drops, corr)\n",
    " \n",
    "print \"\\nDropping\", drops.shape[0], \"highly correlated features...\\n\", drops\n",
    "training_data.drop(drops, axis=1, inplace=True)"
   ]
  },
  {
   "cell_type": "markdown",
   "metadata": {},
   "source": [
    "#Evaluation"
   ]
  },
  {
   "cell_type": "markdown",
   "metadata": {},
   "source": [
    "Evaluating the performance of a model is one of the core stages in the data science process. It indicates how successful the predictions of a dataset has been by a trained model (the smallest log loss in our case).\n",
    "\n",
    "There are standard ways to measure the performance of your model, we'll use __Cross-validation__."
   ]
  },
  {
   "cell_type": "markdown",
   "metadata": {},
   "source": [
    "![Cross validation](https://cdn.meme.am/cache/instances/folder510/500x/60810510.jpg)"
   ]
  },
  {
   "cell_type": "markdown",
   "metadata": {},
   "source": [
    "__Cross-validation :__ is primarily a way of measuring the predictive performance of a statistical model to an independent data set (Retrieved from http://robjhyndman.com). One round of cross-validation involves partitioning a sample of data into complementary subsets, performing the analysis on one subset (called the training set), and validating the analysis on the other subset (called the validation set or testing set). To reduce variability, multiple rounds of cross-validation are performed using different partitions, and the validation results are averaged over the rounds.\n",
    "\n"
   ]
  },
  {
   "cell_type": "markdown",
   "metadata": {},
   "source": [
    "![Cross validation](https://s3.amazonaws.com/media-p.slid.es/uploads/270942/images/2835858/07_cross_validation_diagram.png)"
   ]
  },
  {
   "cell_type": "markdown",
   "metadata": {},
   "source": [
    "The image above show the _5-Fold Cross Validation_."
   ]
  },
  {
   "cell_type": "markdown",
   "metadata": {},
   "source": [
    "The major purpose of cross-validation is to avoid overfitting. \n",
    "\n",
    "Overfitting ?! what does it mean bro' ?"
   ]
  },
  {
   "cell_type": "markdown",
   "metadata": {},
   "source": [
    "__Overfitting :__ Overfitting occurs when a machine learning algorithm, such as a classifier, identifies not only the signal in a dataset, but the noise as well. _Noise_ here means the model is too sensitive to features of the dataset that don’t really mean anything. The practical outcome of overfitting is that a classifier which appears to perform well on its training data may perform poorly, possibly very badly, on new data from the same problem."
   ]
  },
  {
   "cell_type": "markdown",
   "metadata": {},
   "source": [
    "![overfitting](https://www.analyticsvidhya.com/wp-content/uploads/2015/02/underfitting-overfitting.png)"
   ]
  },
  {
   "cell_type": "markdown",
   "metadata": {},
   "source": [
    "We are going to evaluate three models : __Logistic Regression__, __Random Forest__ and __Gradient Boosting Machine__ and see how they perform using 5-Fold Cross-validatrion. "
   ]
  },
  {
   "cell_type": "code",
   "execution_count": 19,
   "metadata": {
    "collapsed": false
   },
   "outputs": [
    {
     "name": "stdout",
     "output_type": "stream",
     "text": [
      "Logistic Regression :\n",
      "score cv : 0 0.691629160437\n",
      "----------------\n",
      "score cv : 1 0.690722606587\n",
      "----------------\n",
      "score cv : 2 0.691937066798\n",
      "----------------\n",
      "score cv : 3 0.691033087824\n",
      "----------------\n",
      "score cv : 4 0.691900001517\n",
      "----------------\n",
      "----------\n",
      "std 0.000484684056424\n",
      "mean on 5 Folds : 0.691444384633\n",
      "----------\n",
      "Random Forest :\n",
      "score cv : 0 0.800238447636\n",
      "----------------\n",
      "score cv : 1 0.793679822913\n",
      "----------------\n",
      "score cv : 2 0.792898459159\n",
      "----------------\n",
      "score cv : 3 0.804449808122\n",
      "----------------\n",
      "score cv : 4 0.788310623428\n",
      "----------------\n",
      "----------\n",
      "std 0.0523928728894\n",
      "mean on 5 Folds : 0.743679908442\n",
      "----------\n",
      "Gradient Boosting Machine :\n",
      "score cv : 0 0.692668450712\n",
      "----------------\n",
      "score cv : 1 0.691298286659\n",
      "----------------\n",
      "score cv : 2 0.692565388907\n",
      "----------------\n",
      "score cv : 3 0.692042895534\n",
      "----------------\n",
      "score cv : 4 0.69175963022\n",
      "----------------\n",
      "----------\n",
      "std 0.0492145591017\n",
      "mean on 5 Folds : 0.72647558243\n",
      "----------\n"
     ]
    }
   ],
   "source": [
    "import pandas as pd \n",
    "import numpy as np \n",
    "from sklearn.linear_model import LogisticRegression\n",
    "from sklearn.ensemble import RandomForestClassifier\n",
    "from sklearn.ensemble import GradientBoostingClassifier\n",
    "from sklearn.metrics import log_loss\n",
    "from sklearn.cross_validation import StratifiedKFold\n",
    "from sklearn.cross_validation import cross_val_score\n",
    "\n",
    "train = pd.read_csv(r'numerai_training_data.csv')\n",
    "labels = train.target\n",
    "\n",
    "features = train.columns.drop('target')\n",
    "drops=['feature14' 'feature16' 'feature18' 'feature20']\n",
    "training_data.drop(drops, axis=1, inplace=True)\n",
    "train = train[features]\n",
    "train = np.array(train)\n",
    "\n",
    "skf=StratifiedKFold(labels, n_folds=5,shuffle=True, random_state=5545)\n",
    "\n",
    "submissions = []\n",
    "scores = []\n",
    "print 'Logistic Regression :'\n",
    "for i,(tr,tst) in enumerate(skf):\n",
    "    lr= LogisticRegression()\n",
    "    _ = lr.fit(train[tr],labels[tr])\n",
    "    preds = lr.predict_proba(train[tst])[:,1]\n",
    "    score = log_loss(labels[tst],preds)\n",
    "    scores.append(score)\n",
    "    print 'score cv :',i,score\n",
    "    print '----------------'\n",
    "\n",
    "print '-'*10\n",
    "print 'std',np.std(scores)\n",
    "print 'mean on 5 Folds :',np.mean(scores)\n",
    "print '-'*10\n",
    "\n",
    "print 'Random Forest :'\n",
    "for i,(tr,tst) in enumerate(skf):\n",
    "    rf= RandomForestClassifier()\n",
    "    _ = rf.fit(train[tr],labels[tr])\n",
    "    preds = rf.predict_proba(train[tst])[:,1]\n",
    "    score = log_loss(labels[tst],preds)\n",
    "    scores.append(score)\n",
    "    print 'score cv :',i,score\n",
    "    print '----------------'\n",
    "\n",
    "print '-'*10\n",
    "print 'std',np.std(scores)\n",
    "print 'mean on 5 Folds :',np.mean(scores)\n",
    "print '-'*10\n",
    "\n",
    "print 'Gradient Boosting Machine :'\n",
    "for i,(tr,tst) in enumerate(skf):\n",
    "    gbm= GradientBoostingClassifier()\n",
    "    _ = gbm.fit(train[tr],labels[tr])\n",
    "    preds = gbm.predict_proba(train[tst])[:,1]\n",
    "    score = log_loss(labels[tst],preds)\n",
    "    scores.append(score)\n",
    "    print 'score cv :',i,score\n",
    "    print '----------------'\n",
    "\n",
    "print '-'*10\n",
    "print 'std',np.std(scores)\n",
    "print 'mean on 5 Folds :',np.mean(scores)\n",
    "print '-'*10"
   ]
  },
  {
   "cell_type": "code",
   "execution_count": 58,
   "metadata": {
    "collapsed": false
   },
   "outputs": [
    {
     "data": {
      "image/png": "[encoded data removed]",
      "text/plain": [
       "<matplotlib.figure.Figure at 0x26c15eb8>"
      ]
     },
     "metadata": {},
     "output_type": "display_data"
    }
   ],
   "source": [
    "from pylab import *\n",
    "val = [0.7436,0.7264,0.6914]    # the bar lengths\n",
    "pos = [0.5,1.5,2.5]    # the bar centers on the y axis\n",
    "\n",
    "figure(1)\n",
    "barh(pos,val, align='center')\n",
    "yticks(pos, ('Random Forest', 'Gradient Boosting Machine ', 'Regression Logistic'))\n",
    "xlabel('log loss')\n",
    "title('benchmark using 5 fold CV')\n",
    "grid(True)"
   ]
  },
  {
   "cell_type": "markdown",
   "metadata": {},
   "source": [
    "- Logistic Regression performed the best with __log loss__ = 0.6914\n",
    "- Random Forest and Gradient Boosting machine (based tree approach) performed poorly. \n",
    "\n",
    "The question is __can we do better ?__\n",
    "\n",
    "Of course we can! We can tune our _hyperparameters_ and improve significantly the model's performance.\n",
    "Because of this, it’s important to understand the concept of _hyperparameter tuning_ and how your choice in hyperparameters can dramatically impact the overall model's performance."
   ]
  },
  {
   "cell_type": "markdown",
   "metadata": {},
   "source": [
    "#Tuning Hyperparameters"
   ]
  },
  {
   "cell_type": "markdown",
   "metadata": {},
   "source": [
    "__Hyperparameters__ are simply the knobs and levels you pull and turn when building a machine learning classifier. The process of tuning hyperparameters is more formally called _hyperparameter optimization_."
   ]
  },
  {
   "cell_type": "markdown",
   "metadata": {},
   "source": [
    "As a concrete example of tuning hyperparameters, let’s consider the __Random Forest Classifier__. \n",
    "\n",
    "For the standard Random Forest implementation, there are three primary hyperparameters that we’ll want to tune:\n",
    "\n",
    "- _n_estimators_ The more estimators you give it, the better it will do. 500 or 1000 is usually sufficient.\n",
    "- _max_features_  is worth exploring for many different values. It may have a large impact on the behavior of the Random Forest because it decides how many features each tree in the Random Forest considers at each split.\n",
    "- _max depth_ max depth of each tree (default none, leading to full tree) - reduction of the maximum depth helps fighting with overfitting.\n",
    "\n",
    "Both of these values can dramatically affect the accuracy of our Random Forest Classifier. To demonstrate this in the context of stock market prediction, let’s apply hyperparameter tuning to our training set."
   ]
  },
  {
   "cell_type": "markdown",
   "metadata": {},
   "source": [
    "__Grid Search Method :__\n",
    "\n",
    "\n",
    "The __Grid Search__ tuning algorithm will methodically (and exhaustively) train and evaluate a machine learning classifier for each and every combination of hyperparameter values.\n",
    "\n",
    "In this case, given 10 unique values of _n_estimators_ and 2 unique values for our _max_features_  parameter, a Grid Search will apply 20 different experiments to determine the optimal value.\n",
    "\n",
    "You can see how a Grid Search is performed in the following code segment :"
   ]
  },
  {
   "cell_type": "code",
   "execution_count": 49,
   "metadata": {
    "collapsed": true
   },
   "outputs": [
    {
     "data": {
      "text/plain": [
       "GridSearchCV(cv=sklearn.cross_validation.StratifiedKFold(labels=[1 0 ..., 1 1], n_folds=5, shuffle=True, random_state=5545),\n",
       "       estimator=RandomForestClassifier(bootstrap=True, compute_importances=None,\n",
       "            criterion='gini', max_depth=None, max_features='auto',\n",
       "            max_leaf_nodes=None, min_density=None, min_samples_leaf=1,\n",
       "            min_samples_split=2, n_estimators=10, n_jobs=1,\n",
       "            oob_score=False, random_state=None, verbose=0),\n",
       "       fit_params={}, iid=True, loss_func=None, n_jobs=1,\n",
       "       param_grid={'n_estimators': [10, 20, 30], 'max_features': ['auto', 'sqrt']},\n",
       "       pre_dispatch='2*n_jobs', refit=True, score_func=None,\n",
       "       scoring='log_loss', verbose=0)"
      ]
     },
     "execution_count": 49,
     "metadata": {},
     "output_type": "execute_result"
    }
   ],
   "source": [
    "import pandas as pd \n",
    "import numpy as np \n",
    "from sklearn.linear_model import LogisticRegression\n",
    "from sklearn.ensemble import RandomForestClassifier\n",
    "from sklearn.ensemble import GradientBoostingClassifier\n",
    "from sklearn.metrics import log_loss\n",
    "from sklearn.cross_validation import StratifiedKFold\n",
    "from sklearn.cross_validation import cross_val_score\n",
    "from sklearn.grid_search import GridSearchCV\n",
    "\n",
    "train = pd.read_csv(r'numerai_training_data.csv')\n",
    "labels = train.target\n",
    "\n",
    "features = train.columns.drop('target')\n",
    "\n",
    "train = train[features]\n",
    "train = np.array(train)\n",
    "\n",
    "skf=StratifiedKFold(labels, n_folds=5,shuffle=True, random_state=5545)\n",
    "param_grid = { \n",
    "    'n_estimators': [10,20,30],\n",
    "    'max_features': ['auto', 'sqrt']\n",
    "}\n",
    "rfc = RandomForestClassifier()\n",
    "CV_rfc = GridSearchCV(estimator=rfc, param_grid=param_grid, cv= skf, scoring='log_loss')\n",
    "CV_rfc.fit(train, labels)"
   ]
  },
  {
   "cell_type": "markdown",
   "metadata": {},
   "source": [
    "With parameter tuning we improved our Random Forest Classifier, Kudos ! "
   ]
  },
  {
   "cell_type": "code",
   "execution_count": 54,
   "metadata": {
    "collapsed": false
   },
   "outputs": [
    {
     "data": {
      "image/png": "[encoded data removed]",
      "text/plain": [
       "<matplotlib.figure.Figure at 0x273c3d68>"
      ]
     },
     "metadata": {},
     "output_type": "display_data"
    }
   ],
   "source": [
    "scores = [x[1] for x in CV_rfc.grid_scores_]\n",
    "scores = np.array(scores).reshape(len(param_grid['max_features']), len(param_grid['n_estimators']))\n",
    "\n",
    "for ind, i in enumerate(param_grid['max_features']):\n",
    "    plt.plot(param_grid['n_estimators'], scores[ind], label='max_features: ' + str(i))\n",
    "plt.legend()\n",
    "plt.xlabel('n_estimators')\n",
    "plt.ylabel('log_loss')\n",
    "plt.show()"
   ]
  },
  {
   "cell_type": "markdown",
   "metadata": {},
   "source": [
    "The more _n_estimators_ we have the more our model perform good !\n",
    "\n",
    "__Improvement and Conclusion :__\n",
    "\n",
    "Next step is to aggregate all the models above to have a stronger classifier using ensembling methods.\n",
    "I hope you enjoyed this tutorial so far. Feel free to drop comments, questions on the github repository."
   ]
  }
 ],
 "metadata": {
  "kernelspec": {
   "display_name": "Python 2",
   "language": "python",
   "name": "python2"
  },
  "language_info": {
   "codemirror_mode": {
    "name": "ipython",
    "version": 2
   },
   "file_extension": ".py",
   "mimetype": "text/x-python",
   "name": "python",
   "nbconvert_exporter": "python",
   "pygments_lexer": "ipython2",
   "version": "2.7.8"
  }
 },
 "nbformat": 4,
 "nbformat_minor": 0
}
